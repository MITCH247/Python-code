{
 "cells": [
  {
   "cell_type": "markdown",
   "id": "c22b0afe",
   "metadata": {},
   "source": [
    "# 01. Importing Labraries"
   ]
  },
  {
   "cell_type": "code",
   "execution_count": 7,
   "id": "8b911ba8",
   "metadata": {},
   "outputs": [],
   "source": [
    "import pandas as pd\n",
    "import numpy as np\n",
    "import os"
   ]
  },
  {
   "cell_type": "markdown",
   "id": "78aa7da5",
   "metadata": {},
   "source": [
    "# 02. Data Types "
   ]
  },
  {
   "cell_type": "code",
   "execution_count": 3,
   "id": "5f78e74a",
   "metadata": {},
   "outputs": [],
   "source": [
    "# Code 3 different ways of reaching a result of 100 by adding or subtracting numeric variables\n",
    "x = 95\n",
    "y = 5\n",
    "z = 105"
   ]
  },
  {
   "cell_type": "code",
   "execution_count": 4,
   "id": "2b27c412",
   "metadata": {},
   "outputs": [
    {
     "data": {
      "text/plain": [
       "100"
      ]
     },
     "execution_count": 4,
     "metadata": {},
     "output_type": "execute_result"
    }
   ],
   "source": [
    "x + y"
   ]
  },
  {
   "cell_type": "code",
   "execution_count": 5,
   "id": "d95aaaf9",
   "metadata": {},
   "outputs": [
    {
     "data": {
      "text/plain": [
       "100"
      ]
     },
     "execution_count": 5,
     "metadata": {},
     "output_type": "execute_result"
    }
   ],
   "source": [
    "z - y"
   ]
  },
  {
   "cell_type": "code",
   "execution_count": 6,
   "id": "362eb680",
   "metadata": {},
   "outputs": [
    {
     "data": {
      "text/plain": [
       "100"
      ]
     },
     "execution_count": 6,
     "metadata": {},
     "output_type": "execute_result"
    }
   ],
   "source": [
    "z + y - 2 * y"
   ]
  },
  {
   "cell_type": "code",
   "execution_count": 8,
   "id": "8e7c3bf5",
   "metadata": {},
   "outputs": [],
   "source": [
    "# Code 2 floating-point variables and divide them by each other\n",
    "x = 10.734\n",
    "y = 3.856"
   ]
  },
  {
   "cell_type": "code",
   "execution_count": 9,
   "id": "3c3b8058",
   "metadata": {},
   "outputs": [
    {
     "data": {
      "text/plain": [
       "2.783713692946058"
      ]
     },
     "execution_count": 9,
     "metadata": {},
     "output_type": "execute_result"
    }
   ],
   "source": [
    "x/y"
   ]
  },
  {
   "cell_type": "code",
   "execution_count": 10,
   "id": "12e2216d",
   "metadata": {},
   "outputs": [],
   "source": [
    "# Construct a short word made of separate strings\n",
    "a = 'basket'\n",
    "b = 'ball'"
   ]
  },
  {
   "cell_type": "code",
   "execution_count": 11,
   "id": "fdef367e",
   "metadata": {},
   "outputs": [
    {
     "data": {
      "text/plain": [
       "'basketball'"
      ]
     },
     "execution_count": 11,
     "metadata": {},
     "output_type": "execute_result"
    }
   ],
   "source": [
    "a + b "
   ]
  },
  {
   "cell_type": "code",
   "execution_count": 12,
   "id": "2dcea8b2",
   "metadata": {},
   "outputs": [],
   "source": [
    "# Construct 2 short sentences made of separate strings\n",
    "a = 'Excuse me, '\n",
    "b = 'do you live here?'"
   ]
  },
  {
   "cell_type": "code",
   "execution_count": 15,
   "id": "cdd7e0aa",
   "metadata": {},
   "outputs": [
    {
     "data": {
      "text/plain": [
       "'Excuse me. do you live here?'"
      ]
     },
     "execution_count": 15,
     "metadata": {},
     "output_type": "execute_result"
    }
   ],
   "source": [
    "a + b"
   ]
  },
  {
   "cell_type": "code",
   "execution_count": 16,
   "id": "547657b0",
   "metadata": {},
   "outputs": [
    {
     "data": {
      "text/plain": [
       "'rabbitrabbitrabbitrabbitrabbitrabbitrabbitrabbitrabbitrabbitrabbitrabbitrabbitrabbitrabbitrabbitrabbitrabbitrabbitrabbitrabbitrabbitrabbitrabbitrabbitrabbitrabbitrabbitrabbitrabbitrabbitrabbitrabbitrabbitrabbitrabbitrabbitrabbitrabbitrabbitrabbitrabbitrabbitrabbitrabbitrabbitrabbitrabbitrabbitrabbitrabbitrabbitrabbitrabbitrabbitrabbitrabbitrabbitrabbitrabbitrabbitrabbitrabbitrabbitrabbitrabbitrabbitrabbitrabbitrabbitrabbitrabbitrabbitrabbitrabbitrabbitrabbitrabbitrabbitrabbitrabbitrabbitrabbitrabbitrabbitrabbitrabbitrabbitrabbitrabbitrabbitrabbitrabbitrabbitrabbitrabbitrabbitrabbitrabbitrabbit'"
      ]
     },
     "execution_count": 16,
     "metadata": {},
     "output_type": "execute_result"
    }
   ],
   "source": [
    "# Include a command that makes a string appear 100 times.\n",
    "a = 'rabbit'\n",
    "a * 100"
   ]
  }
 ],
 "metadata": {
  "kernelspec": {
   "display_name": "Python 3 (ipykernel)",
   "language": "python",
   "name": "python3"
  },
  "language_info": {
   "codemirror_mode": {
    "name": "ipython",
    "version": 3
   },
   "file_extension": ".py",
   "mimetype": "text/x-python",
   "name": "python",
   "nbconvert_exporter": "python",
   "pygments_lexer": "ipython3",
   "version": "3.11.7"
  }
 },
 "nbformat": 4,
 "nbformat_minor": 5
}
